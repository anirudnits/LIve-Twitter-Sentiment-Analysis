{
 "cells": [
  {
   "cell_type": "code",
   "execution_count": 22,
   "metadata": {},
   "outputs": [],
   "source": [
    "import nltk\n",
    "import pickle\n",
    "import random\n",
    "from nltk.corpus import movie_reviews\n",
    "from nltk import word_tokenize\n",
    "from nltk.stem import WordNetLemmatizer\n",
    "from collections import Counter"
   ]
  },
  {
   "cell_type": "code",
   "execution_count": 12,
   "metadata": {},
   "outputs": [],
   "source": [
    "documents = [ (list(movie_reviews.words(fileid)),category)\n",
    "             for category in movie_reviews.categories() \n",
    "             for fileid in movie_reviews.fileids(category) ]"
   ]
  },
  {
   "cell_type": "code",
   "execution_count": 19,
   "metadata": {},
   "outputs": [],
   "source": [
    "random.shuffle(documents)\n",
    "lemmatizer = WordNetLemmatizer()\n",
    "\n",
    "all_words = []\n",
    "\n",
    "for word in movie_reviews.words():\n",
    "    w = word.lower()\n",
    "    all_words.append(w) \n",
    "\n",
    "all_words = [ lemmatizer.lemmatize(word) for word in all_words ]\n"
   ]
  },
  {
   "cell_type": "code",
   "execution_count": 26,
   "metadata": {},
   "outputs": [],
   "source": [
    "all_words = Counter(all_words)\n",
    "lexicon = []\n",
    "\n",
    "for word in all_words.keys():\n",
    "    if all_words[word] > 50 and all_words[word] < 5000 and len(word) > 3:\n",
    "        lexicon.append( word )"
   ]
  },
  {
   "cell_type": "code",
   "execution_count": 27,
   "metadata": {},
   "outputs": [
    {
     "name": "stdout",
     "output_type": "stream",
     "text": [
      "2259\n"
     ]
    }
   ],
   "source": [
    "print (len(lexicon))"
   ]
  },
  {
   "cell_type": "code",
   "execution_count": 28,
   "metadata": {},
   "outputs": [],
   "source": [
    "with open(\"lexicon.pickle\",\"wb\") as f:\n",
    "    pickle.dump( lexicon,f )"
   ]
  },
  {
   "cell_type": "code",
   "execution_count": null,
   "metadata": {},
   "outputs": [],
   "source": []
  }
 ],
 "metadata": {
  "kernelspec": {
   "display_name": "Python 3",
   "language": "python",
   "name": "python3"
  },
  "language_info": {
   "codemirror_mode": {
    "name": "ipython",
    "version": 3
   },
   "file_extension": ".py",
   "mimetype": "text/x-python",
   "name": "python",
   "nbconvert_exporter": "python",
   "pygments_lexer": "ipython3",
   "version": "3.6.4"
  }
 },
 "nbformat": 4,
 "nbformat_minor": 2
}

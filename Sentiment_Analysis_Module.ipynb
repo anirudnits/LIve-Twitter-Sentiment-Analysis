{
 "cells": [
  {
   "cell_type": "code",
   "execution_count": 12,
   "metadata": {},
   "outputs": [],
   "source": [
    "import pickle\n",
    "from sklearn.linear_model import LogisticRegression\n",
    "from sklearn.tree import DecisionTreeClassifier\n",
    "from sklearn.ensemble import RandomForestClassifier\n",
    "from sklearn import svm\n",
    "import numpy as np\n",
    "from sklearn.naive_bayes import GaussianNB\n",
    "from nltk.stem import WordNetLemmatizer\n",
    "from nltk import word_tokenize\n",
    "from statistics import mode"
   ]
  },
  {
   "cell_type": "code",
   "execution_count": 7,
   "metadata": {},
   "outputs": [],
   "source": [
    "with open(\"lexicon.pickle\", \"rb\") as f:\n",
    "    lexicon = pickle.load( f )\n",
    "\n",
    "lemmatizer = WordNetLemmatizer()"
   ]
  },
  {
   "cell_type": "code",
   "execution_count": 8,
   "metadata": {},
   "outputs": [],
   "source": [
    "def create_features( text ):\n",
    "    features = np.zeros( len(lexicon) )\n",
    "    for word in word_tokenize( text ):\n",
    "        w = lemmatizer.lemmatize( word.lower() )\n",
    "        if w in lexicon:\n",
    "            index = lexicon.index(w)\n",
    "            features[index] = 1\n",
    "    features = list(features)\n",
    "    return features"
   ]
  },
  {
   "cell_type": "code",
   "execution_count": 10,
   "metadata": {},
   "outputs": [],
   "source": [
    "with open(\"LogisticRegressionClassifier.pickle\",\"rb\") as f:\n",
    "    LR = pickle.load( f )\n",
    "\n",
    "with open(\"DecisionTreeClassifier.pickle\", \"rb\") as f:\n",
    "    DT = pickle.load( f )\n",
    "    \n",
    "with open(\"RandomForestClassifier.pickle\", \"rb\") as f:\n",
    "    RF = pickle.load( f )\n",
    "    \n",
    "with open(\"NaiveBayesClassiifer.pickle\", \"rb\") as f:\n",
    "    NB = pickle.load( f )\n",
    "    \n",
    "with open(\"SVMclassifier.pickle\",\"rb\") as f:\n",
    "    SV = pickle.load( f )"
   ]
  },
  {
   "cell_type": "code",
   "execution_count": 1,
   "metadata": {},
   "outputs": [],
   "source": [
    "class classifier( object ):\n",
    "    def __init__(self,LR,DT,RF,NB,SV):\n",
    "        self.LR = LR\n",
    "        self.DT = DT\n",
    "        self.RF = RF\n",
    "        self.NB = NB\n",
    "        self.SV = SV\n",
    "        \n",
    "    def predict(self,features):\n",
    "        values = []\n",
    "        values.append( self.LR.predict(features) )\n",
    "        values.append( self.DT.predict(features) )\n",
    "        values.append( self.RF.predict(features) )\n",
    "        values.append( self.NB.predict(features) )\n",
    "        values.append( self.SV.predict(features) )\n",
    "        \n",
    "        maximum_value = mode( values )\n",
    "        if maximum_vlaue == 0:\n",
    "            return \"Negative\"\n",
    "        else:\n",
    "            return \"Positive\""
   ]
  },
  {
   "cell_type": "code",
   "execution_count": null,
   "metadata": {},
   "outputs": [],
   "source": []
  }
 ],
 "metadata": {
  "kernelspec": {
   "display_name": "Python 3",
   "language": "python",
   "name": "python3"
  },
  "language_info": {
   "codemirror_mode": {
    "name": "ipython",
    "version": 3
   },
   "file_extension": ".py",
   "mimetype": "text/x-python",
   "name": "python",
   "nbconvert_exporter": "python",
   "pygments_lexer": "ipython3",
   "version": "3.6.4"
  }
 },
 "nbformat": 4,
 "nbformat_minor": 2
}

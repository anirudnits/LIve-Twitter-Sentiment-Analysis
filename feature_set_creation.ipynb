{
 "cells": [
  {
   "cell_type": "code",
   "execution_count": 3,
   "metadata": {},
   "outputs": [],
   "source": [
    "import nltk\n",
    "import numpy as np\n",
    "from nltk.corpus import movie_reviews\n",
    "import pickle\n",
    "from nltk.stem import WordNetLemmatizer"
   ]
  },
  {
   "cell_type": "code",
   "execution_count": 4,
   "metadata": {},
   "outputs": [],
   "source": [
    "lemmatizer = WordNetLemmatizer()\n",
    "\n",
    "documents = [ (list(movie_reviews.words(fileid)),category)\n",
    "             for category in movie_reviews.categories() \n",
    "             for fileid in movie_reviews.fileids(category) ]"
   ]
  },
  {
   "cell_type": "code",
   "execution_count": 5,
   "metadata": {},
   "outputs": [],
   "source": [
    "with open(\"lexicon.pickle\",\"rb\") as f:\n",
    "    lexicon = pickle.load( f )"
   ]
  },
  {
   "cell_type": "code",
   "execution_count": 6,
   "metadata": {},
   "outputs": [],
   "source": [
    "feature_set = []\n",
    "\n",
    "#0 -> negative and 1->positive"
   ]
  },
  {
   "cell_type": "code",
   "execution_count": 7,
   "metadata": {},
   "outputs": [],
   "source": [
    "#for negative reviews\n",
    "for fileid in movie_reviews.fileids(\"neg\"):\n",
    "    features = np.zeros( len(lexicon) )\n",
    "    for word in list(movie_reviews.words(fileid)):\n",
    "        w = lemmatizer.lemmatize( word.lower() )\n",
    "        if w in lexicon:\n",
    "            idx = lexicon.index( w )\n",
    "            features[idx] = 1\n",
    "    features = list( features )\n",
    "    feature_set.append( (features,0) )\n",
    "        \n"
   ]
  },
  {
   "cell_type": "code",
   "execution_count": 8,
   "metadata": {},
   "outputs": [],
   "source": [
    "#for pos reviews\n",
    "for fileid in movie_reviews.fileids(\"pos\"):\n",
    "    features = np.zeros( len(lexicon) )\n",
    "    for word in list( movie_reviews.words(fileid) ):\n",
    "        w = lemmatizer.lemmatize( word.lower() )\n",
    "        if w in lexicon:\n",
    "            idx = lexicon.index( w )\n",
    "            features[idx] = 1\n",
    "    features = list( features )\n",
    "    feature_set.append( (features,1) )"
   ]
  },
  {
   "cell_type": "code",
   "execution_count": 26,
   "metadata": {},
   "outputs": [],
   "source": [
    "with open(\"feature_set.pickle\",\"wb\") as f:\n",
    "    pickle.dump( feature_set,f )"
   ]
  },
  {
   "cell_type": "code",
   "execution_count": 9,
   "metadata": {},
   "outputs": [],
   "source": [
    "with open(\"feature_set_deepLearning\", \"wb\") as f:\n",
    "    pickle.dump( feature_set,f )"
   ]
  },
  {
   "cell_type": "code",
   "execution_count": null,
   "metadata": {},
   "outputs": [],
   "source": []
  }
 ],
 "metadata": {
  "kernelspec": {
   "display_name": "Python 3",
   "language": "python",
   "name": "python3"
  },
  "language_info": {
   "codemirror_mode": {
    "name": "ipython",
    "version": 3
   },
   "file_extension": ".py",
   "mimetype": "text/x-python",
   "name": "python",
   "nbconvert_exporter": "python",
   "pygments_lexer": "ipython3",
   "version": "3.6.4"
  }
 },
 "nbformat": 4,
 "nbformat_minor": 2
}
